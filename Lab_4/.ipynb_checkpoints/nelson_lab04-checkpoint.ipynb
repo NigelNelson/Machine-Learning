{
 "cells": [
  {
   "cell_type": "markdown",
   "id": "24fc17ae",
   "metadata": {},
   "source": [
    "# Lab 4 k-Nearest Neighbors\n",
    "## Introduction: TODO\n",
    "## Author: Nigel Nelson\n",
    "---\n",
    "---\n",
    "### Imports:"
   ]
  },
  {
   "cell_type": "code",
   "execution_count": 110,
   "id": "34ef7c7e",
   "metadata": {},
   "outputs": [],
   "source": [
    "from test_knn import *\n",
    "from knn import *\n",
    "import matplotlib.pyplot as plt\n",
    "from scipy import spatial\n",
    "from sklearn.model_selection import train_test_split\n",
    "from sklearn.preprocessing import StandardScaler"
   ]
  },
  {
   "cell_type": "code",
   "execution_count": 100,
   "id": "facbfe84",
   "metadata": {},
   "outputs": [
    {
     "name": "stderr",
     "output_type": "stream",
     "text": [
      "...\n",
      "----------------------------------------------------------------------\n",
      "Ran 3 tests in 0.013s\n",
      "\n",
      "OK\n"
     ]
    }
   ],
   "source": [
    "!python test_knn.py"
   ]
  },
  {
   "cell_type": "markdown",
   "id": "fc9336e3",
   "metadata": {},
   "source": [
    "### Loading Moons, Circles, and Rocky_Ridge Datasets:"
   ]
  },
  {
   "cell_type": "code",
   "execution_count": 101,
   "id": "e5ce54ca",
   "metadata": {},
   "outputs": [],
   "source": [
    "moons = np.loadtxt('moons.csv', delimiter=',', skiprows=1)\n",
    "circles = np.loadtxt('circles.csv', delimiter=',', skiprows=1)\n",
    "rocky_ridge = np.loadtxt('rocky_ridge.csv', delimiter=',', skiprows=1)"
   ]
  },
  {
   "cell_type": "markdown",
   "id": "fbaaaba5",
   "metadata": {},
   "source": [
    "### Splitting The Datasets into Training and Testing Splits (with Stratification):"
   ]
  },
  {
   "cell_type": "code",
   "execution_count": 102,
   "id": "42c41b85",
   "metadata": {},
   "outputs": [],
   "source": [
    "moons_X_train, moons_X_test, moons_y_train, moons_y_test = train_test_split(\n",
    "    moons[:, 0:], moons[:, 0], test_size=0.3, stratify=moons[:, 0])\n",
    "\n",
    "circles_X_train, circles_X_test, circles_y_train, circles_y_test = train_test_split(\n",
    "    circles[:, 0:], circles[:, 0], test_size=0.3, stratify=circles[:, 0])\n",
    "\n",
    "rr_X_train, rr_X_test, rr_y_train, rr_y_test = train_test_split(\n",
    "    rocky_ridge[:, 0:], rocky_ridge[:, 0], test_size=0.3, stratify=rocky_ridge[:, 0])"
   ]
  },
  {
   "cell_type": "markdown",
   "id": "70aa31ba",
   "metadata": {},
   "source": [
    "### Standardizing the features of the Datasets:"
   ]
  },
  {
   "cell_type": "code",
   "execution_count": 103,
   "id": "21ea75e4",
   "metadata": {},
   "outputs": [],
   "source": [
    "scaler = StandardScaler()\n",
    "\n",
    "moons_X_train = scaler.fit_transform(moons_X_train)\n",
    "moons_X_test = scaler.transform(moons_X_test)\n",
    "\n",
    "circles_X_train = scaler.fit_transform(circles_X_train)\n",
    "circles_X_test = scaler.transform(circles_X_test)\n",
    "\n",
    "rr_X_train = scaler.fit_transform(rr_X_train)\n",
    "rr_X_test = scaler.transform(rr_X_test)"
   ]
  },
  {
   "cell_type": "markdown",
   "id": "7587c52a",
   "metadata": {},
   "source": [
    "### Fitting KNN models to the Datasets:"
   ]
  },
  {
   "cell_type": "code",
   "execution_count": 123,
   "id": "136f57ef",
   "metadata": {},
   "outputs": [],
   "source": [
    "moons_knn = KNN(3, 'mode')\n",
    "circles_knn = KNN(3, 'mode')\n",
    "rocky_ridge_knn = KNN(3, 'mode')"
   ]
  },
  {
   "cell_type": "code",
   "execution_count": 106,
   "id": "c3a5c816",
   "metadata": {},
   "outputs": [],
   "source": [
    "moons_model.fit(moons_X_train, moons_y_train)\n",
    "circles_model.fit(circles_X_train, circles_y_train)\n",
    "rocky_ridge_model.fit(rr_X_train, rr_y_train)"
   ]
  },
  {
   "cell_type": "code",
   "execution_count": 119,
   "id": "c50ef119",
   "metadata": {},
   "outputs": [],
   "source": [
    "points = np.linspace(-3, 3, 300)\n",
    "x, y = np.meshgrid(points, points)"
   ]
  },
  {
   "cell_type": "code",
   "execution_count": 124,
   "id": "ab59e7ca",
   "metadata": {},
   "outputs": [
    {
     "ename": "AttributeError",
     "evalue": "module 'scipy.spatial' has no attribute 'cdist'",
     "output_type": "error",
     "traceback": [
      "\u001b[1;31m---------------------------------------------------------------------------\u001b[0m",
      "\u001b[1;31mAttributeError\u001b[0m                            Traceback (most recent call last)",
      "\u001b[1;32m<ipython-input-124-488d9a2ad81b>\u001b[0m in \u001b[0;36m<module>\u001b[1;34m\u001b[0m\n\u001b[1;32m----> 1\u001b[1;33m \u001b[0mmoons_values\u001b[0m \u001b[1;33m=\u001b[0m \u001b[0mmoons_knn\u001b[0m\u001b[1;33m.\u001b[0m\u001b[0mpredict\u001b[0m\u001b[1;33m(\u001b[0m\u001b[1;33m[\u001b[0m\u001b[0mx\u001b[0m\u001b[1;33m,\u001b[0m\u001b[0my\u001b[0m\u001b[1;33m]\u001b[0m\u001b[1;33m)\u001b[0m\u001b[1;33m\u001b[0m\u001b[1;33m\u001b[0m\u001b[0m\n\u001b[0m\u001b[0;32m      2\u001b[0m \u001b[0mcircles_values\u001b[0m \u001b[1;33m=\u001b[0m \u001b[0mcircles_knn\u001b[0m\u001b[1;33m.\u001b[0m\u001b[0mpredict\u001b[0m\u001b[1;33m(\u001b[0m\u001b[1;33m[\u001b[0m\u001b[0mx\u001b[0m\u001b[1;33m,\u001b[0m\u001b[0my\u001b[0m\u001b[1;33m]\u001b[0m\u001b[1;33m)\u001b[0m\u001b[1;33m\u001b[0m\u001b[1;33m\u001b[0m\u001b[0m\n\u001b[0;32m      3\u001b[0m \u001b[0mrocky_ridge_values\u001b[0m \u001b[1;33m=\u001b[0m \u001b[0mrocky_ridge_knn\u001b[0m\u001b[1;33m.\u001b[0m\u001b[0mpredict\u001b[0m\u001b[1;33m(\u001b[0m\u001b[1;33m[\u001b[0m\u001b[0mx\u001b[0m\u001b[1;33m,\u001b[0m\u001b[0my\u001b[0m\u001b[1;33m]\u001b[0m\u001b[1;33m)\u001b[0m\u001b[1;33m\u001b[0m\u001b[1;33m\u001b[0m\u001b[0m\n",
      "\u001b[1;32m~\\OneDrive - Milwaukee School of Engineering\\Mach Learning\\Labs\\Lab_4\\knn.py\u001b[0m in \u001b[0;36mpredict\u001b[1;34m(self, X)\u001b[0m\n\u001b[0;32m     63\u001b[0m             \u001b[0mClass\u001b[0m \u001b[0mlabels\u001b[0m \u001b[1;32mfor\u001b[0m \u001b[0meach\u001b[0m \u001b[0mquery\u001b[0m\u001b[1;33m.\u001b[0m\u001b[1;33m\u001b[0m\u001b[1;33m\u001b[0m\u001b[0m\n\u001b[0;32m     64\u001b[0m         \"\"\"\n\u001b[1;32m---> 65\u001b[1;33m         \u001b[0mdistances\u001b[0m \u001b[1;33m=\u001b[0m \u001b[0mspatial\u001b[0m\u001b[1;33m.\u001b[0m\u001b[0mdistance\u001b[0m\u001b[1;33m.\u001b[0m\u001b[0mcdist\u001b[0m\u001b[1;33m(\u001b[0m\u001b[0mX\u001b[0m\u001b[1;33m,\u001b[0m \u001b[0mself\u001b[0m\u001b[1;33m.\u001b[0m\u001b[0mX\u001b[0m\u001b[1;33m)\u001b[0m\u001b[1;33m\u001b[0m\u001b[1;33m\u001b[0m\u001b[0m\n\u001b[0m\u001b[0;32m     66\u001b[0m         \u001b[0msorted_distances\u001b[0m \u001b[1;33m=\u001b[0m \u001b[0mnp\u001b[0m\u001b[1;33m.\u001b[0m\u001b[0margsort\u001b[0m\u001b[1;33m(\u001b[0m\u001b[0mdistances\u001b[0m\u001b[1;33m,\u001b[0m \u001b[0maxis\u001b[0m\u001b[1;33m=\u001b[0m\u001b[1;36m1\u001b[0m\u001b[1;33m)\u001b[0m\u001b[1;33m[\u001b[0m\u001b[1;33m:\u001b[0m\u001b[1;33m,\u001b[0m \u001b[1;33m:\u001b[0m\u001b[0mself\u001b[0m\u001b[1;33m.\u001b[0m\u001b[0mk\u001b[0m\u001b[1;33m]\u001b[0m\u001b[1;33m\u001b[0m\u001b[1;33m\u001b[0m\u001b[0m\n\u001b[0;32m     67\u001b[0m         \u001b[0mlabels\u001b[0m \u001b[1;33m=\u001b[0m \u001b[0mself\u001b[0m\u001b[1;33m.\u001b[0m\u001b[0my\u001b[0m\u001b[1;33m[\u001b[0m\u001b[0msorted_distances\u001b[0m\u001b[1;33m]\u001b[0m\u001b[1;33m\u001b[0m\u001b[1;33m\u001b[0m\u001b[0m\n",
      "\u001b[1;31mAttributeError\u001b[0m: module 'scipy.spatial' has no attribute 'cdist'"
     ]
    }
   ],
   "source": [
    "moons_values = moons_knn.predict([x,y])\n",
    "circles_values = circles_knn.predict([x,y])\n",
    "rocky_ridge_values = rocky_ridge_knn.predict([x,y])"
   ]
  }
 ],
 "metadata": {
  "kernelspec": {
   "display_name": "Python 3",
   "language": "python",
   "name": "python3"
  },
  "language_info": {
   "codemirror_mode": {
    "name": "ipython",
    "version": 3
   },
   "file_extension": ".py",
   "mimetype": "text/x-python",
   "name": "python",
   "nbconvert_exporter": "python",
   "pygments_lexer": "ipython3",
   "version": "3.8.8"
  }
 },
 "nbformat": 4,
 "nbformat_minor": 5
}
